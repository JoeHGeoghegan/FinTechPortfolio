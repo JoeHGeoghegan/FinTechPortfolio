{
 "cells": [
  {
   "cell_type": "code",
   "execution_count": 8,
   "metadata": {},
   "outputs": [],
   "source": [
    "import pandas as pd\n",
    "import numpy as np\n",
    "import panel as pn\n",
    "from panel.interact import interact\n",
    "from panel import widgets"
   ]
  },
  {
   "cell_type": "markdown",
   "metadata": {},
   "source": [
    " ### Enable Jupyter Lab Panel plugin"
   ]
  },
  {
   "cell_type": "code",
   "execution_count": 9,
   "metadata": {},
   "outputs": [],
   "source": [
    "pn.extension()"
   ]
  },
  {
   "cell_type": "markdown",
   "metadata": {},
   "source": [
    "### Import hvplot.pandas after pn.extension"
   ]
  },
  {
   "cell_type": "code",
   "execution_count": 10,
   "metadata": {},
   "outputs": [],
   "source": [
    "# Import hvplot.pandas after pn.extension\n",
    "# This avoids plotly initialization failure\n",
    "import hvplot.pandas"
   ]
  },
  {
   "cell_type": "markdown",
   "metadata": {},
   "source": [
    " ### Panel with Python Data Structures"
   ]
  },
  {
   "cell_type": "code",
   "execution_count": 13,
   "metadata": {},
   "outputs": [],
   "source": [
    "# Define function to choose a year\n",
    "def choose_year(year):\n",
    "    return f\"yo, welcome to {year}\""
   ]
  },
  {
   "cell_type": "code",
   "execution_count": 14,
   "metadata": {},
   "outputs": [
    {
     "data": {},
     "metadata": {},
     "output_type": "display_data"
    },
    {
     "data": {
      "application/vnd.holoviews_exec.v0+json": "",
      "text/html": [
       "<div id='4405'>\n",
       "\n",
       "\n",
       "\n",
       "\n",
       "\n",
       "  <div class=\"bk-root\" id=\"17aa3f96-283f-4001-8171-b50843f93cde\" data-root-id=\"4405\"></div>\n",
       "</div>\n",
       "<script type=\"application/javascript\">(function(root) {\n",
       "  function embed_document(root) {\n",
       "    var docs_json = {\"0054e20f-4b82-49bf-bf76-91d0540c6084\":{\"defs\":[{\"extends\":null,\"module\":null,\"name\":\"ReactiveHTML1\",\"overrides\":[],\"properties\":[]},{\"extends\":null,\"module\":null,\"name\":\"FlexBox1\",\"overrides\":[],\"properties\":[{\"default\":\"flex-start\",\"kind\":null,\"name\":\"align_content\"},{\"default\":\"flex-start\",\"kind\":null,\"name\":\"align_items\"},{\"default\":\"row\",\"kind\":null,\"name\":\"flex_direction\"},{\"default\":\"wrap\",\"kind\":null,\"name\":\"flex_wrap\"},{\"default\":\"flex-start\",\"kind\":null,\"name\":\"justify_content\"}]},{\"extends\":null,\"module\":null,\"name\":\"TemplateActions1\",\"overrides\":[],\"properties\":[{\"default\":0,\"kind\":null,\"name\":\"open_modal\"},{\"default\":0,\"kind\":null,\"name\":\"close_modal\"}]},{\"extends\":null,\"module\":null,\"name\":\"MaterialTemplateActions1\",\"overrides\":[],\"properties\":[{\"default\":0,\"kind\":null,\"name\":\"open_modal\"},{\"default\":0,\"kind\":null,\"name\":\"close_modal\"}]}],\"roots\":{\"references\":[{\"attributes\":{\"css_classes\":[\"markdown\"],\"margin\":[5,5,5,5],\"name\":\"interactive06572\",\"text\":\"&lt;p&gt;yo, welcome to 2019&lt;/p&gt;\"},\"id\":\"4409\",\"type\":\"panel.models.markup.HTML\"},{\"attributes\":{\"children\":[{\"id\":\"4407\"}],\"margin\":[0,0,0,0],\"name\":\"Column06578\"},\"id\":\"4406\",\"type\":\"Column\"},{\"attributes\":{\"client_comm_id\":\"50d93824afbe48d29b73aad5cdcae39c\",\"comm_id\":\"ae24c27cb35741fab7afc26112048444\",\"plot_id\":\"4405\"},\"id\":\"4410\",\"type\":\"panel.models.comm_manager.CommManager\"},{\"attributes\":{\"children\":[{\"id\":\"4409\"}],\"margin\":[0,0,0,0],\"name\":\"Row06577\"},\"id\":\"4408\",\"type\":\"Row\"},{\"attributes\":{\"margin\":[5,10,5,10],\"options\":[\"2019\",\"2018\",\"2017\",\"2016\",\"2015\"],\"title\":\"year\",\"value\":\"2019\"},\"id\":\"4407\",\"type\":\"Select\"},{\"attributes\":{\"children\":[{\"id\":\"4406\"},{\"id\":\"4408\"}],\"margin\":[0,0,0,0],\"name\":\"Column06573\"},\"id\":\"4405\",\"type\":\"Column\"}],\"root_ids\":[\"4405\",\"4410\"]},\"title\":\"Bokeh Application\",\"version\":\"2.4.1\"}};\n",
       "    var render_items = [{\"docid\":\"0054e20f-4b82-49bf-bf76-91d0540c6084\",\"root_ids\":[\"4405\"],\"roots\":{\"4405\":\"17aa3f96-283f-4001-8171-b50843f93cde\"}}];\n",
       "    root.Bokeh.embed.embed_items_notebook(docs_json, render_items);\n",
       "  }\n",
       "  if (root.Bokeh !== undefined && root.Bokeh.Panel !== undefined) {\n",
       "    embed_document(root);\n",
       "  } else {\n",
       "    var attempts = 0;\n",
       "    var timer = setInterval(function(root) {\n",
       "      if (root.Bokeh !== undefined && root.Bokeh.Panel !== undefined) {\n",
       "        clearInterval(timer);\n",
       "        embed_document(root);\n",
       "      } else if (document.readyState == \"complete\") {\n",
       "        attempts++;\n",
       "        if (attempts > 200) {\n",
       "          clearInterval(timer);\n",
       "          console.log(\"Bokeh: ERROR: Unable to run BokehJS code because BokehJS library is missing\");\n",
       "        }\n",
       "      }\n",
       "    }, 25, root)\n",
       "  }\n",
       "})(window);</script>"
      ],
      "text/plain": [
       "Column\n",
       "    [0] Column\n",
       "        [0] Select(name='year', options=['2019', '2018', ...], value='2019')\n",
       "    [1] Row\n",
       "        [0] Markdown(str, name='interactive06572')"
      ]
     },
     "execution_count": 14,
     "metadata": {
      "application/vnd.holoviews_exec.v0+json": {
       "id": "4405"
      }
     },
     "output_type": "execute_result"
    }
   ],
   "source": [
    "# Declare one list of years to be used in a Panel select list\n",
    "list_of_years = ['2019', '2018', '2017', '2016', '2015']\n",
    "\n",
    "interact(choose_year, year=list_of_years)"
   ]
  },
  {
   "cell_type": "code",
   "execution_count": 15,
   "metadata": {},
   "outputs": [
    {
     "data": {},
     "metadata": {},
     "output_type": "display_data"
    },
    {
     "data": {
      "application/vnd.holoviews_exec.v0+json": "",
      "text/html": [
       "<div id='4412'>\n",
       "\n",
       "\n",
       "\n",
       "\n",
       "\n",
       "  <div class=\"bk-root\" id=\"7f2e5192-170b-450f-af10-40deea485e73\" data-root-id=\"4412\"></div>\n",
       "</div>\n",
       "<script type=\"application/javascript\">(function(root) {\n",
       "  function embed_document(root) {\n",
       "    var docs_json = {\"119ac4ec-120b-494d-bb40-be5bab30db17\":{\"defs\":[{\"extends\":null,\"module\":null,\"name\":\"ReactiveHTML1\",\"overrides\":[],\"properties\":[]},{\"extends\":null,\"module\":null,\"name\":\"FlexBox1\",\"overrides\":[],\"properties\":[{\"default\":\"flex-start\",\"kind\":null,\"name\":\"align_content\"},{\"default\":\"flex-start\",\"kind\":null,\"name\":\"align_items\"},{\"default\":\"row\",\"kind\":null,\"name\":\"flex_direction\"},{\"default\":\"wrap\",\"kind\":null,\"name\":\"flex_wrap\"},{\"default\":\"flex-start\",\"kind\":null,\"name\":\"justify_content\"}]},{\"extends\":null,\"module\":null,\"name\":\"TemplateActions1\",\"overrides\":[],\"properties\":[{\"default\":0,\"kind\":null,\"name\":\"open_modal\"},{\"default\":0,\"kind\":null,\"name\":\"close_modal\"}]},{\"extends\":null,\"module\":null,\"name\":\"MaterialTemplateActions1\",\"overrides\":[],\"properties\":[{\"default\":0,\"kind\":null,\"name\":\"open_modal\"},{\"default\":0,\"kind\":null,\"name\":\"close_modal\"}]}],\"roots\":{\"references\":[{\"attributes\":{\"children\":[{\"id\":\"4416\"}],\"margin\":[0,0,0,0],\"name\":\"Row06586\"},\"id\":\"4415\",\"type\":\"Row\"},{\"attributes\":{\"children\":[{\"id\":\"4413\"},{\"id\":\"4415\"}],\"margin\":[0,0,0,0],\"name\":\"Column06582\"},\"id\":\"4412\",\"type\":\"Column\"},{\"attributes\":{\"css_classes\":[\"markdown\"],\"margin\":[5,5,5,5],\"name\":\"interactive06581\",\"text\":\"&lt;p&gt;yo, welcome to 2014&lt;/p&gt;\"},\"id\":\"4416\",\"type\":\"panel.models.markup.HTML\"},{\"attributes\":{\"client_comm_id\":\"9b13babde05a455ea1fe2201ca621266\",\"comm_id\":\"8a818cbd9efa47378940b3f5efe6f184\",\"plot_id\":\"4412\"},\"id\":\"4417\",\"type\":\"panel.models.comm_manager.CommManager\"},{\"attributes\":{\"children\":[{\"id\":\"4414\"}],\"margin\":[0,0,0,0],\"name\":\"Column06587\"},\"id\":\"4413\",\"type\":\"Column\"},{\"attributes\":{\"margin\":[5,10,5,10],\"options\":[\"2014\",\"2013\",\"2012\",\"2011\",\"2010\"],\"title\":\"year\",\"value\":\"2014\"},\"id\":\"4414\",\"type\":\"Select\"}],\"root_ids\":[\"4412\",\"4417\"]},\"title\":\"Bokeh Application\",\"version\":\"2.4.1\"}};\n",
       "    var render_items = [{\"docid\":\"119ac4ec-120b-494d-bb40-be5bab30db17\",\"root_ids\":[\"4412\"],\"roots\":{\"4412\":\"7f2e5192-170b-450f-af10-40deea485e73\"}}];\n",
       "    root.Bokeh.embed.embed_items_notebook(docs_json, render_items);\n",
       "  }\n",
       "  if (root.Bokeh !== undefined && root.Bokeh.Panel !== undefined) {\n",
       "    embed_document(root);\n",
       "  } else {\n",
       "    var attempts = 0;\n",
       "    var timer = setInterval(function(root) {\n",
       "      if (root.Bokeh !== undefined && root.Bokeh.Panel !== undefined) {\n",
       "        clearInterval(timer);\n",
       "        embed_document(root);\n",
       "      } else if (document.readyState == \"complete\") {\n",
       "        attempts++;\n",
       "        if (attempts > 200) {\n",
       "          clearInterval(timer);\n",
       "          console.log(\"Bokeh: ERROR: Unable to run BokehJS code because BokehJS library is missing\");\n",
       "        }\n",
       "      }\n",
       "    }, 25, root)\n",
       "  }\n",
       "})(window);</script>"
      ],
      "text/plain": [
       "Column\n",
       "    [0] Column\n",
       "        [0] Select(name='year', options=['2014', '2013', ...], value='2014')\n",
       "    [1] Row\n",
       "        [0] Markdown(str, name='interactive06581')"
      ]
     },
     "execution_count": 15,
     "metadata": {
      "application/vnd.holoviews_exec.v0+json": {
       "id": "4412"
      }
     },
     "output_type": "execute_result"
    }
   ],
   "source": [
    "# Declare a second list of years to be used in a Panel select list\n",
    "list_of_years_2 = ['2014', '2013', '2012', '2011', '2010']\n",
    "interact(choose_year, year=list_of_years_2)"
   ]
  },
  {
   "cell_type": "markdown",
   "metadata": {},
   "source": [
    " ### Panel with Plot"
   ]
  },
  {
   "cell_type": "code",
   "execution_count": null,
   "metadata": {},
   "outputs": [],
   "source": [
    "### Define function to create plot\n",
    "def plot_housing_tx(number_of_sales):\n",
    "    housing_transactions = pd.DataFrame(\n",
    "        {\n",
    "            \"years\": np.random.randint(2010, 2019, number_of_sales),\n",
    "            \"sales\": np.random.randint(53, 500, number_of_sales),\n",
    "            \"foreclosures\": np.random.randint(10, 147, number_of_sales),\n",
    "        }\n",
    "    ).sort_values([\"years\", \"sales\"])\n",
    "\n",
    "    return housing_transactions.hvplot.scatter(\n",
    "        x=\"sales\",\n",
    "        y=\"foreclosures\",\n",
    "        c=\"years\",\n",
    "        colormap=\"viridis\",\n",
    "        title=\"Alleghany, PA Housing Transactions\",\n",
    "    )\n",
    "\n",
    "\n",
    "# Render plot with Panel interactive widget\n",
    "interact(plot_housing_tx, number_of_sales=100)"
   ]
  },
  {
   "cell_type": "code",
   "execution_count": null,
   "metadata": {},
   "outputs": [],
   "source": []
  }
 ],
 "metadata": {
  "file_extension": ".py",
  "kernelspec": {
   "display_name": "Python [conda env:pyvizenv] *",
   "language": "python",
   "name": "conda-env-pyvizenv-py"
  },
  "language_info": {
   "codemirror_mode": {
    "name": "ipython",
    "version": 3
   },
   "file_extension": ".py",
   "mimetype": "text/x-python",
   "name": "python",
   "nbconvert_exporter": "python",
   "pygments_lexer": "ipython3",
   "version": "3.7.11"
  },
  "mimetype": "text/x-python",
  "name": "python",
  "npconvert_exporter": "python",
  "pygments_lexer": "ipython3",
  "version": 3
 },
 "nbformat": 4,
 "nbformat_minor": 4
}
