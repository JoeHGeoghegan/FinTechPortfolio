{
 "cells": [
  {
   "cell_type": "code",
   "execution_count": 1,
   "id": "152ac1a8-6247-461a-b877-05bda8d10d21",
   "metadata": {},
   "outputs": [
    {
     "name": "stdout",
     "output_type": "stream",
     "text": [
      "saying pizza is better than hello world\n"
     ]
    }
   ],
   "source": [
    "print('saying pizza is better than hello world')"
   ]
  },
  {
   "cell_type": "code",
   "execution_count": 2,
   "id": "9d763df7-dd7c-4847-9591-75f26fcd01e7",
   "metadata": {},
   "outputs": [
    {
     "name": "stdout",
     "output_type": "stream",
     "text": [
      "More pizza\n"
     ]
    }
   ],
   "source": [
    "print(\"More pizza\")"
   ]
  },
  {
   "cell_type": "code",
   "execution_count": null,
   "id": "9620a296-8c15-43ab-95ce-b898609c1417",
   "metadata": {},
   "outputs": [],
   "source": []
  }
 ],
 "metadata": {
  "kernelspec": {
   "display_name": "Python 3 (ipykernel)",
   "language": "python",
   "name": "python3"
  },
  "language_info": {
   "codemirror_mode": {
    "name": "ipython",
    "version": 3
   },
   "file_extension": ".py",
   "mimetype": "text/x-python",
   "name": "python",
   "nbconvert_exporter": "python",
   "pygments_lexer": "ipython3",
   "version": "3.7.11"
  }
 },
 "nbformat": 4,
 "nbformat_minor": 5
}
