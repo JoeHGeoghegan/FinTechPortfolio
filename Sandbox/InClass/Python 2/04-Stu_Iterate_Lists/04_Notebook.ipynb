{
 "cells": [
  {
   "cell_type": "code",
   "execution_count": 10,
   "id": "1468c3f0-6d70-4090-bc81-110d2796eab6",
   "metadata": {},
   "outputs": [],
   "source": [
    "# @TODO: Initialize the metric variables\n",
    "total =0\n",
    "count =0\n",
    "maximum = 0\n",
    "minimum = float('inf')"
   ]
  },
  {
   "cell_type": "code",
   "execution_count": 11,
   "id": "534d7a12-6ae2-478c-a79f-124a4426ea83",
   "metadata": {},
   "outputs": [],
   "source": [
    "# @TODO: Initialize lists to hold profitable and unprofitable day profits/losses\n",
    "profitable_days =[]\n",
    "unprofitable_days =[]"
   ]
  },
  {
   "cell_type": "code",
   "execution_count": 12,
   "id": "bedb6212-8444-498f-9341-8674682111f8",
   "metadata": {},
   "outputs": [],
   "source": [
    "# List of trading profits/losses\n",
    "trading_pnl = [ -224,  352, 252, 354, -544,\n",
    "                -650,   56, 123, -43,  254,\n",
    "                 325, -123,  47, 321,  123,\n",
    "                 133, -151, 613, 232, -311 ]\n"
   ]
  },
  {
   "cell_type": "code",
   "execution_count": 13,
   "id": "a32d8250-df1b-4066-9c37-834521082e11",
   "metadata": {},
   "outputs": [],
   "source": [
    "# @TODO: Iterate over each element of the list\n",
    "for item in trading_pnl:\n",
    "\n",
    "    # @TODO: Cumulatively sum up the total and count\n",
    "    count += 1\n",
    "    total += item\n",
    "\n",
    "    # @TODO: Write logic to determine minimum and maximum values\n",
    "    if item > maximum:\n",
    "        maximum = item\n",
    "    elif item < minimum:\n",
    "        minimum = item\n",
    "    \n",
    "    # @TODO: Write logic to determine profitable vs. unprofitable days\n",
    "    if item > 0:\n",
    "        profitable_days.append(item)\n",
    "    else:\n",
    "        unprofitable_days.append(item)\n",
    "    "
   ]
  },
  {
   "cell_type": "code",
   "execution_count": 14,
   "id": "37fbb55e-637f-48d2-bdc3-275dc4898533",
   "metadata": {},
   "outputs": [],
   "source": [
    "# @TODO: Calculate the average\n",
    "average = total/count"
   ]
  },
  {
   "cell_type": "code",
   "execution_count": 16,
   "id": "4636a1e8-ad95-4202-a7a2-9b0e1cb5091c",
   "metadata": {},
   "outputs": [],
   "source": [
    "# @TODO: Calculate count metrics\n",
    "lenpro = len(profitable_days)\n",
    "lenunpro = len(unprofitable_days)"
   ]
  },
  {
   "cell_type": "code",
   "execution_count": 25,
   "id": "4041700a-2a35-41c7-a8cc-220436167fac",
   "metadata": {},
   "outputs": [],
   "source": [
    "# @TODO: Calculate percentage metrics\n",
    "percenpro=(lenpro/count)*100\n",
    "percenunpro=(lenunpro/count)*100"
   ]
  },
  {
   "cell_type": "code",
   "execution_count": 28,
   "id": "33badf26-095e-4eac-9424-73135e7b75b1",
   "metadata": {},
   "outputs": [
    {
     "name": "stdout",
     "output_type": "stream",
     "text": [
      "---------Summary Statistics----------\n",
      "Number of Total Days: 20\n",
      "Number of Profitable Days: 13\n",
      "Number of Unprofitable Days: 7\n",
      "Percentage of Profitable Days: 65.00%\n",
      "Percentage of Unprofitable Days: 35.00%\n",
      "-------------------------------------\n",
      "Profitable Days: [352, 252, 354, 56, 123, 254, 325, 47, 321, 123, 133, 613, 232]\n",
      "Unprofitable Days: [-224, -544, -650, -43, -123, -151, -311]\n",
      "-------------------------------------\n",
      "Total Profits/Losses: 1139.00\n",
      "Daily Average: 56.95\n",
      "Worst Loss: -650.00\n",
      "Best Gain: 613.00\n"
     ]
    }
   ],
   "source": [
    "# @TODO: Print out the summary statistics\n",
    "print(\"---------Summary Statistics----------\")\n",
    "print(f\"Number of Total Days: {count}\")\n",
    "print(f\"Number of Profitable Days: {lenpro}\")\n",
    "print(f\"Number of Unprofitable Days: {lenunpro}\")\n",
    "print(f\"Percentage of Profitable Days: {percenpro:.2f}%\")\n",
    "print(f\"Percentage of Unprofitable Days: {percenunpro:.2f}%\")\n",
    "print(\"-------------------------------------\")\n",
    "print(f\"Profitable Days: {profitable_days}\")\n",
    "print(f\"Unprofitable Days: {unprofitable_days}\")\n",
    "print(\"-------------------------------------\")\n",
    "print(f\"Total Profits/Losses: {total:.2f}\")\n",
    "print(f\"Daily Average: {average:.2f}\")\n",
    "print(f\"Worst Loss: {minimum:.2f}\")\n",
    "print(f\"Best Gain: {maximum:.2f}\")"
   ]
  },
  {
   "cell_type": "code",
   "execution_count": null,
   "id": "f6968d67-3030-4100-80c4-2dbb80cb29ef",
   "metadata": {},
   "outputs": [],
   "source": []
  }
 ],
 "metadata": {
  "kernelspec": {
   "display_name": "Python 3 (ipykernel)",
   "language": "python",
   "name": "python3"
  },
  "language_info": {
   "codemirror_mode": {
    "name": "ipython",
    "version": 3
   },
   "file_extension": ".py",
   "mimetype": "text/x-python",
   "name": "python",
   "nbconvert_exporter": "python",
   "pygments_lexer": "ipython3",
   "version": "3.7.11"
  }
 },
 "nbformat": 4,
 "nbformat_minor": 5
}
