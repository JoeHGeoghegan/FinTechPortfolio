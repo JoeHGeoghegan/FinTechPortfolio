{
 "cells": [
  {
   "cell_type": "code",
   "execution_count": 1,
   "id": "bf8b1735-6b00-4de8-a679-278895382d72",
   "metadata": {},
   "outputs": [],
   "source": [
    "# Dictionary of List of Lists\n",
    "# Key: Stock Ticker | Value: List of Records\n",
    "# Record: Date, Open, High, Low, Close\n",
    "# [date, open, high, low, close]\n",
    "historical_stock_data = {\n",
    "    \"AAPL\": [\n",
    "        [\"04-17-2019\", 199.54, 203.38, 198.61, 203.13],\n",
    "        [\"04-18-2019\", 199.46, 201.37, 198.56, 199.25],\n",
    "        [\"04-19-2019\", 198.58, 199.85, 198.01, 199.23],\n",
    "        [\"04-20-2019\", 199.20, 200.14, 196.21, 198.87],\n",
    "\n",
    "    ],\n",
    "    \"MU\": [\n",
    "        [\"04-17-2019\", 43.20, 43.53, 42.79, 43.40],\n",
    "        [\"04-18-2019\", 43.36, 44.05, 42.76, 43.15],\n",
    "        [\"04-19-2019\", 42.26, 42.93, 42.08, 42.76],\n",
    "        [\"04-20-2019\", 42.17, 42.23, 41.20, 41.82],\n",
    "\n",
    "    ],\n",
    "    \"AMD\": [\n",
    "        [\"04-17-2019\", 27.60, 27.88, 27.34, 27.68],\n",
    "        [\"04-18-2019\", 28.21, 28.27, 27.22, 27.49],\n",
    "        [\"04-19-2019\", 27.72, 28.18, 27.49, 27.93],\n",
    "        [\"04-20-2019\", 27.80, 27.84, 26.96, 27.33],\n",
    "\n",
    "    ],\n",
    "    \"TWTR\": [\n",
    "        [\"04-17-2019\", 34.67, 34.86, 34.32, 34.40],\n",
    "        [\"04-18-2019\", 34.73, 34.90, 34.20, 34.48],\n",
    "        [\"04-19-2019\", 34.84, 34.99, 34.23, 34.46],\n",
    "        [\"04-20-2019\", 34.38, 35.03, 34.34, 34.71],\n",
    "\n",
    "    ]\n",
    "}"
   ]
  },
  {
   "cell_type": "code",
   "execution_count": 2,
   "id": "3f61e7d2-c165-41e4-8873-02897e57a228",
   "metadata": {},
   "outputs": [],
   "source": [
    "# Dictionary of Dictionary\n",
    "# Key: Stock Ticker | Value: Dictionary\n",
    "new_records = {\n",
    "    \"AAPL\": {\n",
    "        \"date\": \"04-21-2019\",\n",
    "        \"open\": 200.85,\n",
    "        \"high\": 201.00,\n",
    "        \"low\": 198.44,\n",
    "        \"close\": 198.95\n",
    "    },\n",
    "    \"MU\": {\n",
    "        \"date\": \"04-21-2019\",\n",
    "        \"open\": 42.85,\n",
    "        \"high\": 43.20,\n",
    "        \"low\": 41.81,\n",
    "        \"close\": 42.01\n",
    "    },\n",
    "    \"AMD\": {\n",
    "        \"date\": \"04-21-2019\",\n",
    "        \"open\": 28.21,\n",
    "        \"high\": 28.38,\n",
    "        \"low\": 27.66,\n",
    "        \"close\": 27.85\n",
    "    },\n",
    "    \"TWTR\": {\n",
    "        \"date\": \"04-21-2019\",\n",
    "        \"open\": 34.67,\n",
    "        \"high\": 34.83,\n",
    "        \"low\": 34.11,\n",
    "        \"close\": 34.37\n",
    "    }\n",
    "}"
   ]
  },
  {
   "cell_type": "code",
   "execution_count": 3,
   "id": "2ce8a42b-2f2a-4409-b190-c0d7529b58f5",
   "metadata": {},
   "outputs": [
    {
     "data": {
      "text/plain": [
       "{'AAPL': [['04-17-2019', 199.54, 203.38, 198.61, 203.13],\n",
       "  ['04-18-2019', 199.46, 201.37, 198.56, 199.25],\n",
       "  ['04-19-2019', 198.58, 199.85, 198.01, 199.23],\n",
       "  ['04-20-2019', 199.2, 200.14, 196.21, 198.87],\n",
       "  ['04-21-2019', 200.85, 201.0, 198.44, 198.95]],\n",
       " 'MU': [['04-17-2019', 43.2, 43.53, 42.79, 43.4],\n",
       "  ['04-18-2019', 43.36, 44.05, 42.76, 43.15],\n",
       "  ['04-19-2019', 42.26, 42.93, 42.08, 42.76],\n",
       "  ['04-20-2019', 42.17, 42.23, 41.2, 41.82],\n",
       "  ['04-21-2019', 42.85, 43.2, 41.81, 42.01]],\n",
       " 'AMD': [['04-17-2019', 27.6, 27.88, 27.34, 27.68],\n",
       "  ['04-18-2019', 28.21, 28.27, 27.22, 27.49],\n",
       "  ['04-19-2019', 27.72, 28.18, 27.49, 27.93],\n",
       "  ['04-20-2019', 27.8, 27.84, 26.96, 27.33],\n",
       "  ['04-21-2019', 28.21, 28.38, 27.66, 27.85]],\n",
       " 'TWTR': [['04-17-2019', 34.67, 34.86, 34.32, 34.4],\n",
       "  ['04-18-2019', 34.73, 34.9, 34.2, 34.48],\n",
       "  ['04-19-2019', 34.84, 34.99, 34.23, 34.46],\n",
       "  ['04-20-2019', 34.38, 35.03, 34.34, 34.71],\n",
       "  ['04-21-2019', 34.67, 34.83, 34.11, 34.37]]}"
      ]
     },
     "execution_count": 3,
     "metadata": {},
     "output_type": "execute_result"
    }
   ],
   "source": [
    "# @TODO: Choice 1: Add a new round of entries to the 'historical_stock_data' dictionary\n",
    "for ticker in new_records:\n",
    "    historical_stock_data[ticker].append([\n",
    "        new_records[ticker][\"date\"],\n",
    "        new_records[ticker][\"open\"],\n",
    "        new_records[ticker][\"high\"],\n",
    "        new_records[ticker][\"low\"],\n",
    "        new_records[ticker][\"close\"]\n",
    "        ])\n",
    "historical_stock_data"
   ]
  },
  {
   "cell_type": "code",
   "execution_count": 4,
   "id": "d827f969-2d0e-4d57-a038-4f1f5f8f1bba",
   "metadata": {},
   "outputs": [],
   "source": [
    "# @TODO: Choice 2: Add a new round of entries via for loop to the 'historical_stock_data' dictionary\n",
    "tick = {}\n",
    "for data in historical_stock_data:\n",
    "    ending_weekly_close = historical_stock_data[data][-1][-1]\n",
    "    beginning_weekly_close = historical_stock_data[data][0][-1]\n",
    "    ticker_weekly_close = (ending_weekly_close - beginning_weekly_close) / beginning_weekly_close * 100\n",
    "    tick[data]=round(ticker_weekly_close,2)"
   ]
  },
  {
   "cell_type": "code",
   "execution_count": 5,
   "id": "7a3d2492-478f-4f85-8df3-79429ab5a770",
   "metadata": {},
   "outputs": [
    {
     "data": {
      "text/plain": [
       "{'AAPL': -2.06, 'MU': -3.2, 'AMD': 0.61, 'TWTR': -0.09}"
      ]
     },
     "execution_count": 5,
     "metadata": {},
     "output_type": "execute_result"
    }
   ],
   "source": [
    "# @TODO: Print out the modified 'historical_stock_data' dictionary\n",
    "tick"
   ]
  },
  {
   "cell_type": "code",
   "execution_count": null,
   "id": "1e927460-24e3-47aa-977c-35372d1a3f5c",
   "metadata": {},
   "outputs": [],
   "source": []
  }
 ],
 "metadata": {
  "kernelspec": {
   "display_name": "Python 3 (ipykernel)",
   "language": "python",
   "name": "python3"
  },
  "language_info": {
   "codemirror_mode": {
    "name": "ipython",
    "version": 3
   },
   "file_extension": ".py",
   "mimetype": "text/x-python",
   "name": "python",
   "nbconvert_exporter": "python",
   "pygments_lexer": "ipython3",
   "version": "3.7.11"
  }
 },
 "nbformat": 4,
 "nbformat_minor": 5
}
