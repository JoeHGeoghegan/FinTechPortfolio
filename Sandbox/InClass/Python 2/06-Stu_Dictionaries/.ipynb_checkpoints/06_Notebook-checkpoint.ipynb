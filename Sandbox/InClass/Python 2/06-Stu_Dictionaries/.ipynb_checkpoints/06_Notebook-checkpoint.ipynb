{
 "cells": [
  {
   "cell_type": "code",
   "execution_count": 9,
   "id": "5e9fe518-6213-4645-ab37-e061c6ece142",
   "metadata": {},
   "outputs": [],
   "source": [
    "# @TODO: Initialize a dictionary of banks and market caps (in billions)\n",
    "#Cam's number: 713-887-8799\n",
    "Bank_MarketCap = {\n",
    "    \"JP Morgan Chase\": 327,\n",
    "    \"Bank of America\": 302,\n",
    "    \"Citigroup\": 173,\n",
    "    \"Wells Fargo\": 273,\n",
    "    \"Goldman Sachs\": 87,\n",
    "    \"Morgan Stanley\": 72,\n",
    "    \"U.S. Bancorp\": 83,\n",
    "    \"TD Bank\": 108,\n",
    "    \"PNC Financial Services\": 67,\n",
    "    \"Capital One\": 47,\n",
    "    \"FNB Corporation\": 4,\n",
    "    \"First Hawaiian Bank\": 3,\n",
    "    \"Ally Financial\": 12,\n",
    "    \"Wachovia\": 145,\n",
    "    \"Republic Bancorp\": .97\n",
    "}"
   ]
  },
  {
   "cell_type": "code",
   "execution_count": 2,
   "id": "7b2b341d-60a5-4f9f-aee3-f9d78c24f318",
   "metadata": {},
   "outputs": [],
   "source": [
    "# @TODO: Change the market cap for 'Citigroup'\n",
    "Bank_MarketCap\n"
   ]
  },
  {
   "cell_type": "code",
   "execution_count": 3,
   "id": "ca40b76d-814a-4a01-94d8-38ae29b72e4a",
   "metadata": {},
   "outputs": [],
   "source": [
    "# @TODO: Add a new bank and market cap pair\n",
    "Bank_MarketCap\n",
    "\n"
   ]
  },
  {
   "cell_type": "code",
   "execution_count": 4,
   "id": "326f94e8-e0ff-4e75-b7e0-de423ed928c3",
   "metadata": {},
   "outputs": [],
   "source": [
    "# @TODO: Remove a bank from the dictionary\n",
    "Bank_MarketCap\n",
    "\n"
   ]
  },
  {
   "cell_type": "code",
   "execution_count": 8,
   "id": "fc8fefdc-2409-4f73-87a5-266065f81a72",
   "metadata": {},
   "outputs": [
    {
     "name": "stdout",
     "output_type": "stream",
     "text": [
      "{'JP Morgan Chase': 327, 'Bank of America': 302, 'Citigroup': 173, 'Wells Fargo': 273, 'Goldman Sachs': 87, 'Morgan Stanley': 72, 'U.S. Bancorp': 83, 'TD Bank': 108, 'PNC Financial Services': 67, 'Capital One': 47, 'FNB Corporation': 4, 'First Hawaiian Bank': 3, 'Ally Financial': 12, 'Wachovia': 145, 'Republic Bancorp': 0.97}\n"
     ]
    },
    {
     "data": {
      "text/plain": [
       "{'JP Morgan Chase': 327,\n",
       " 'Bank of America': 302,\n",
       " 'Citigroup': 173,\n",
       " 'Wells Fargo': 273,\n",
       " 'Goldman Sachs': 87,\n",
       " 'Morgan Stanley': 72,\n",
       " 'U.S. Bancorp': 83,\n",
       " 'TD Bank': 108,\n",
       " 'PNC Financial Services': 67,\n",
       " 'Capital One': 47,\n",
       " 'FNB Corporation': 4,\n",
       " 'First Hawaiian Bank': 3,\n",
       " 'Ally Financial': 12,\n",
       " 'Wachovia': 145,\n",
       " 'Republic Bancorp': 0.97}"
      ]
     },
     "execution_count": 8,
     "metadata": {},
     "output_type": "execute_result"
    }
   ],
   "source": [
    "# @TODO: Print the modified dictionary\n",
    "print(Bank_MarketCap)\n",
    "Bank_MarketCap"
   ]
  },
  {
   "cell_type": "code",
   "execution_count": null,
   "id": "e3aaeafb-2800-4748-b89b-5d4c9d3ef875",
   "metadata": {},
   "outputs": [],
   "source": []
  }
 ],
 "metadata": {
  "kernelspec": {
   "display_name": "Python 3 (ipykernel)",
   "language": "python",
   "name": "python3"
  },
  "language_info": {
   "codemirror_mode": {
    "name": "ipython",
    "version": 3
   },
   "file_extension": ".py",
   "mimetype": "text/x-python",
   "name": "python",
   "nbconvert_exporter": "python",
   "pygments_lexer": "ipython3",
   "version": "3.7.11"
  }
 },
 "nbformat": 4,
 "nbformat_minor": 5
}
