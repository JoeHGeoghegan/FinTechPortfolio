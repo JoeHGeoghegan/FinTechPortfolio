{
 "cells": [
  {
   "cell_type": "code",
   "execution_count": 24,
   "id": "478c0261-1b5f-4a59-ad24-67df9edd42f5",
   "metadata": {},
   "outputs": [
    {
     "data": {
      "text/plain": [
       "620.92"
      ]
     },
     "execution_count": 24,
     "metadata": {},
     "output_type": "execute_result"
    }
   ],
   "source": [
    "# -*- coding: utf-8 -*-\n",
    "\"\"\"\n",
    "Zero-Coupon Bond Valuation.\n",
    "\n",
    "This script will calculate the present value of zero-coupon bonds, compare the present value to the price of the bond, and determine the corresponding action (buy, not buy, neutral).\n",
    "\"\"\"\n",
    "\n",
    "# @TODO: Create a function to calculate present value\n",
    "def PV(FV, interest_rate, compounding_periods, years):\n",
    "    return round(FV/(1+(interest_rate/compounding_periods))**(compounding_periods*years),2)\n",
    "\n",
    "# Intialize the zero-coupon bond parameters, assume compounding period is equal to 1\n",
    "price = 700\n",
    "future_value = 1000\n",
    "discount_rate = .1\n",
    "compounding_periods = 1\n",
    "years = 5\n",
    "\n",
    "# @TODO: Call the calculate_present_value() function and assign to a variables\n",
    "PV(future_value, discount_rate, compounding_periods, years)\n",
    "\n",
    "# @TODO: Determine if the bond is worth it\n"
   ]
  },
  {
   "cell_type": "code",
   "execution_count": 12,
   "id": "4b5340b1-87b3-4198-ab6a-13a843c41fad",
   "metadata": {},
   "outputs": [],
   "source": [
    "test = 1"
   ]
  },
  {
   "cell_type": "code",
   "execution_count": 16,
   "id": "a99781ec-1d85-4ef2-8be4-31889e9913dc",
   "metadata": {},
   "outputs": [],
   "source": [
    "def sumadd(test, number):\n",
    "    test += number\n",
    "    return test"
   ]
  },
  {
   "cell_type": "code",
   "execution_count": 22,
   "id": "8f3710d6-545a-4cae-b99e-7c305f7227f3",
   "metadata": {},
   "outputs": [],
   "source": [
    "test = sumadd(test, 4)"
   ]
  },
  {
   "cell_type": "code",
   "execution_count": 21,
   "id": "6889ef88-6276-4222-a760-c1a9c5764f16",
   "metadata": {},
   "outputs": [
    {
     "data": {
      "text/plain": [
       "13"
      ]
     },
     "execution_count": 23,
     "metadata": {},
     "output_type": "execute_result"
    }
   ],
   "source": [
    "test"
   ]
  },
  {
   "cell_type": "code",
   "execution_count": null,
   "id": "08713c72-aa8e-403f-9e74-199863840aa0",
   "metadata": {},
   "outputs": [],
   "source": []
  }
 ],
 "metadata": {
  "kernelspec": {
   "display_name": "Python 3 (ipykernel)",
   "language": "python",
   "name": "python3"
  },
  "language_info": {
   "codemirror_mode": {
    "name": "ipython",
    "version": 3
   },
   "file_extension": ".py",
   "mimetype": "text/x-python",
   "name": "python",
   "nbconvert_exporter": "python",
   "pygments_lexer": "ipython3",
   "version": "3.7.11"
  }
 },
 "nbformat": 4,
 "nbformat_minor": 5
}
