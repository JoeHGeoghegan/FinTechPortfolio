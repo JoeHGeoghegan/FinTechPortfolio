{
 "cells": [
  {
   "cell_type": "code",
   "execution_count": 7,
   "id": "1766f028-ee9b-4ae4-8000-0e68883dd4b3",
   "metadata": {},
   "outputs": [
    {
     "ename": "NameError",
     "evalue": "name 'renenue' is not defined",
     "output_type": "error",
     "traceback": [
      "\u001b[1;31m---------------------------------------------------------------------------\u001b[0m",
      "\u001b[1;31mNameError\u001b[0m                                 Traceback (most recent call last)",
      "\u001b[1;32m~\\AppData\\Local\\Temp/ipykernel_23732/3162502360.py\u001b[0m in \u001b[0;36m<module>\u001b[1;34m\u001b[0m\n\u001b[0;32m     43\u001b[0m \u001b[1;31m# @TODO: YOUR CODE HERE!\u001b[0m\u001b[1;33m\u001b[0m\u001b[1;33m\u001b[0m\u001b[1;33m\u001b[0m\u001b[0m\n\u001b[0;32m     44\u001b[0m \u001b[1;32mfor\u001b[0m \u001b[0mcustomer\u001b[0m \u001b[1;32min\u001b[0m \u001b[0mcustomers\u001b[0m\u001b[1;33m:\u001b[0m\u001b[1;33m\u001b[0m\u001b[1;33m\u001b[0m\u001b[0m\n\u001b[1;32m---> 45\u001b[1;33m     \u001b[0mprint\u001b[0m\u001b[1;33m(\u001b[0m\u001b[0mcreate_greeting\u001b[0m\u001b[1;33m(\u001b[0m\u001b[0mcustomer\u001b[0m\u001b[1;33m[\u001b[0m\u001b[1;34m\"first_name\"\u001b[0m\u001b[1;33m]\u001b[0m\u001b[1;33m,\u001b[0m\u001b[0mcustomer\u001b[0m\u001b[1;33m[\u001b[0m\u001b[1;34m\"last_name\"\u001b[0m\u001b[1;33m]\u001b[0m\u001b[1;33m,\u001b[0m\u001b[0mcustomer\u001b[0m\u001b[1;33m[\u001b[0m\u001b[1;34m\"revenue\"\u001b[0m\u001b[1;33m]\u001b[0m\u001b[1;33m)\u001b[0m\u001b[1;33m)\u001b[0m\u001b[1;33m\u001b[0m\u001b[1;33m\u001b[0m\u001b[0m\n\u001b[0m",
      "\u001b[1;32m~\\AppData\\Local\\Temp/ipykernel_23732/3162502360.py\u001b[0m in \u001b[0;36mcreate_greeting\u001b[1;34m(first_name, last_name, revenue)\u001b[0m\n\u001b[0;32m     33\u001b[0m     \u001b[1;32melif\u001b[0m \u001b[0mrevenue\u001b[0m \u001b[1;33m>=\u001b[0m \u001b[1;36m1001\u001b[0m\u001b[1;33m:\u001b[0m\u001b[1;33m\u001b[0m\u001b[1;33m\u001b[0m\u001b[0m\n\u001b[0;32m     34\u001b[0m         \u001b[0mgreeting\u001b[0m \u001b[1;33m=\u001b[0m \u001b[1;34mf'{first_name} {last_name} is silver'\u001b[0m\u001b[1;33m\u001b[0m\u001b[1;33m\u001b[0m\u001b[0m\n\u001b[1;32m---> 35\u001b[1;33m     \u001b[1;32melif\u001b[0m \u001b[0mrenenue\u001b[0m \u001b[1;33m>=\u001b[0m \u001b[1;36m0\u001b[0m\u001b[1;33m:\u001b[0m\u001b[1;33m\u001b[0m\u001b[1;33m\u001b[0m\u001b[0m\n\u001b[0m\u001b[0;32m     36\u001b[0m         \u001b[0mgreeting\u001b[0m \u001b[1;33m=\u001b[0m \u001b[1;34mf'{first_name} {last_name} is bronze'\u001b[0m\u001b[1;33m\u001b[0m\u001b[1;33m\u001b[0m\u001b[0m\n\u001b[0;32m     37\u001b[0m     \u001b[1;32melse\u001b[0m\u001b[1;33m:\u001b[0m\u001b[1;33m\u001b[0m\u001b[1;33m\u001b[0m\u001b[0m\n",
      "\u001b[1;31mNameError\u001b[0m: name 'renenue' is not defined"
     ]
    }
   ],
   "source": [
    "# -*- coding: utf-8 -*-\n",
    "\"\"\"Refresher activity.\n",
    "\n",
    "This script will use variables, conditionals, lists, dicts, and functions\n",
    "to print out different greetings for customers based on their\n",
    "business tier (determined by revenue).\n",
    "\"\"\"\n",
    "\n",
    "# List of dicts\n",
    "customers = [\n",
    "    { \"first_name\": \"Tom\", \"last_name\": \"Bell\", \"revenue\": 0 },\n",
    "    { \"first_name\": \"Maggie\", \"last_name\": \"Johnson\", \"revenue\": 1032 },\n",
    "    { \"first_name\": \"John\", \"last_name\": \"Spectre\", \"revenue\": 2543 },\n",
    "    { \"first_name\": \"Susy\", \"last_name\": \"Simmons\", \"revenue\": 5322 },\n",
    "    { \"first_name\": \"Rich\", \"last_name\": \"MoneyBags\", \"revenue\": -2 }\n",
    "]\n",
    "\n",
    "# @TODO Define a function that accepts a customer first_name, last_name, and\n",
    "# revenue and returns a custom greeting with the full name.\n",
    "# Use these ranges to determine the business tier (and corresponding message)\n",
    "# for each customer.\n",
    "#   Platinum = 3001+\n",
    "#   Gold = 2001-3000\n",
    "#   Silver = 1001-2000\n",
    "#   Bronze = 0-1000\n",
    "def create_greeting(first_name, last_name, revenue):\n",
    "    # @TODO: YOUR CODE HERE!\n",
    "    greeting = \"\"\n",
    "    if revenue >= 3001:\n",
    "        greeting = f'{first_name} {last_name} is plat'\n",
    "    elif  revenue >= 2001:\n",
    "        greeting = f'{first_name} {last_name} is gold'\n",
    "    elif revenue >= 1001:\n",
    "        greeting = f'{first_name} {last_name} is silver'\n",
    "    elif revenue >= 0:\n",
    "        greeting = f'{first_name} {last_name} is bronze'\n",
    "    else:\n",
    "        greeting = f'{first_name} {last_name} is screwed'\n",
    "    return greeting\n",
    "\n",
    "# @TODO: Loop through the list of customers and use your function to print\n",
    "# custom greetings for each customer.\n",
    "# @TODO: YOUR CODE HERE!\n",
    "for customer in customers:\n",
    "    print(create_greeting(customer[\"first_name\"],customer[\"last_name\"],customer[\"revenue\"]))\n"
   ]
  },
  {
   "cell_type": "code",
   "execution_count": null,
   "id": "478c0261-1b5f-4a59-ad24-67df9edd42f5",
   "metadata": {},
   "outputs": [],
   "source": []
  }
 ],
 "metadata": {
  "kernelspec": {
   "display_name": "Python 3 (ipykernel)",
   "language": "python",
   "name": "python3"
  },
  "language_info": {
   "codemirror_mode": {
    "name": "ipython",
    "version": 3
   },
   "file_extension": ".py",
   "mimetype": "text/x-python",
   "name": "python",
   "nbconvert_exporter": "python",
   "pygments_lexer": "ipython3",
   "version": "3.7.11"
  }
 },
 "nbformat": 4,
 "nbformat_minor": 5
}
